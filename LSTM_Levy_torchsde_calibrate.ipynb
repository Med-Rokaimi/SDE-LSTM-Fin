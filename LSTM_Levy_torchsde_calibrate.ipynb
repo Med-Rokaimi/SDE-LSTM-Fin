{
  "cells": [
    {
      "cell_type": "markdown",
      "metadata": {
        "id": "view-in-github",
        "colab_type": "text"
      },
      "source": [
        "<a href=\"https://colab.research.google.com/github/Med-Rokaimi/SDE-LSTM-Fin/blob/main/LSTM_Levy_torchsde_calibrate.ipynb\" target=\"_parent\"><img src=\"https://colab.research.google.com/assets/colab-badge.svg\" alt=\"Open In Colab\"/></a>"
      ]
    },
    {
      "cell_type": "markdown",
      "source": [
        "# LSTM + Levy model"
      ],
      "metadata": {
        "id": "CtEaols_EKRN"
      },
      "id": "CtEaols_EKRN"
    },
    {
      "cell_type": "markdown",
      "source": [
        "\n",
        "\n",
        "*   The levy parameters are calibrated by the torchsde library :\n",
        "https://github.com/google-research/torchsde/tree/master\n",
        "*   The dataset used in this notebook is : Italya 40 index https://www.investing.com/indices/investing.com-italy-40\n",
        "\n",
        "*   Integrating torchsde has significantly increased the training time\n",
        "\n",
        "\n",
        "\n",
        "\n"
      ],
      "metadata": {
        "id": "WI1eFjyxEUUJ"
      },
      "id": "WI1eFjyxEUUJ"
    },
    {
      "cell_type": "code",
      "execution_count": null,
      "outputs": [],
      "source": [
        "import warnings\n",
        "import numpy as np\n",
        "import pandas as pd\n",
        "import torch\n",
        "import torch.nn as nn\n",
        "import torchsde\n",
        "\n",
        "from config.args import Config\n",
        "from utils.helper import save\n",
        "from data.data import create_dataset, pytorch_data_input\n",
        "from utils.evaluation import  plot_trues_preds, metric, save_results\n",
        "from utils.helper import create_exp, save_config_to_excel\n",
        "\n",
        "warnings.filterwarnings(\"ignore\")\n"
      ],
      "metadata": {
        "ExecuteTime": {
          "end_time": "2024-07-21T08:37:14.884293200Z",
          "start_time": "2024-07-21T08:37:07.971845300Z"
        },
        "id": "79f89593b155a724"
      },
      "id": "79f89593b155a724"
    },
    {
      "cell_type": "markdown",
      "source": [
        "The Levy Solver class"
      ],
      "metadata": {
        "id": "-1LIN4E2He6L"
      },
      "id": "-1LIN4E2He6L"
    },
    {
      "cell_type": "code",
      "execution_count": null,
      "outputs": [],
      "source": [
        "class MertonSDE(nn.Module):\n",
        "    def __init__(self):\n",
        "        '''\n",
        "         This function simulates asset price paths using the Merton jump-diffusion model. This model extends the classic Black-Scholes framework by incorporating random jumps, making it more suitable for capturing sudden and significant changes in asset prices.\n",
        "        :param r: risk free rate\n",
        "        :param m: meean of jump size\n",
        "        :param v: standard deviation of jump\n",
        "        :param lam: intensity of jump i.e. number of jumps per annum\n",
        "        :param sigma: annaul standard deviation , for weiner process\n",
        "        '''\n",
        "        super(MertonSDE, self).__init__()\n",
        "        self.noise_type = \"diagonal\"\n",
        "        self.sde_type = \"ito\"\n",
        "        self.r = nn.Parameter(torch.tensor(0.02), requires_grad=False)\n",
        "        self.m = nn.Parameter(torch.tensor(0.02), requires_grad=False)\n",
        "        self.v = nn.Parameter(torch.tensor(0.02), requires_grad=False)\n",
        "        self.lam = nn.Parameter(torch.tensor(0.02), requires_grad=True)\n",
        "        self.sigma = nn.Parameter(torch.tensor(0.02), requires_grad=True)\n",
        "\n",
        "    def f(self, t, y):\n",
        "\n",
        "        return self.r * y\n",
        "\n",
        "\n",
        "    def g(self, t, y):\n",
        "\n",
        "        #return self.sigma * y.unsqueeze(-1)\n",
        "        return self.sigma * y\n",
        "\n",
        "    def forward (self,T, steps, Npaths):\n",
        "        v = abs(self.v)\n",
        "        torch.manual_seed(4)\n",
        "        size = (steps, Npaths)\n",
        "        dt = T / steps\n",
        "\n",
        "        rates = torch.rand(steps, Npaths)\n",
        "        poisson = torch.poisson(rates)\n",
        "        poi_rv = torch.mul(poisson, torch.normal(self.m, v).cumsum(dim=0))\n",
        "        geo = torch.cumsum(((self.r - self.sigma ** 2 / 2 - self.lam * (self.m + v ** 2 * 0.5)) * dt +\n",
        "                            self.sigma * torch.sqrt(torch.tensor(dt)) * torch.normal(self.m, v)), dim=0)\n",
        "        out = torch.exp(geo + poi_rv)\n",
        "        return out"
      ],
      "metadata": {
        "ExecuteTime": {
          "end_time": "2024-07-21T08:37:14.897273200Z",
          "start_time": "2024-07-21T08:37:14.897273200Z"
        },
        "id": "c3b1f83fc8d9e66a"
      },
      "id": "c3b1f83fc8d9e66a"
    },
    {
      "cell_type": "markdown",
      "source": [
        "##LSTM model"
      ],
      "metadata": {
        "id": "lgMaCC1iGt4o"
      },
      "id": "lgMaCC1iGt4o"
    },
    {
      "cell_type": "code",
      "execution_count": null,
      "outputs": [],
      "source": [
        "class LSTM(nn.Module):\n",
        "\n",
        "    def __init__(self, args, input_dim):\n",
        "        super(LSTM, self).__init__()\n",
        "\n",
        "        self.args = args\n",
        "        self.hidden_dim = args.hidden_units1\n",
        "        self.input_dim = input_dim\n",
        "        self.output_dim = args.pred_len\n",
        "        self.layer_dim = args.num_layers\n",
        "        # LSTM layers\n",
        "        self.lstm = nn.LSTM(\n",
        "            self.input_dim, self.hidden_dim, self.layer_dim, batch_first=True, bidirectional=True, dropout=args.dropout\n",
        "        )\n",
        "\n",
        "        # Fully connected layer\n",
        "        self.fc_1 = nn.Linear(self.hidden_dim * 2, args.hidden_units2)  # fully connected\n",
        "        self.fc_2 = nn.Linear(args.hidden_units2, self.output_dim)  # fully connected last layer\n",
        "        self.relu = nn.ReLU()\n",
        "        self.Merton = MertonSDE()\n",
        "\n",
        "\n",
        "    def forward(self, x, sde_path):\n",
        "\n",
        "        #sde_path = self.Merton(self.output_dim, x.size(0), 1)\n",
        "        h0 = torch.zeros(self.layer_dim * 2, x.size(0), self.hidden_dim, device=x.device).requires_grad_()\n",
        "        # Initializing cell state for first input with zeros\n",
        "        c0 = torch.zeros(self.layer_dim * 2, x.size(0), self.hidden_dim, device=x.device).requires_grad_()\n",
        "\n",
        "        out, (hn, cn) = self.lstm(x, (h0, c0))\n",
        "        out = out[:, -1, :]\n",
        "\n",
        "        # Convert the final state to our desired output shape (batch_size, output_dim)\n",
        "        out = self.fc_1(out)  # first dense\n",
        "        out = self.relu(out)  # relu\n",
        "\n",
        "        out = self.fc_2(out)  # final output\n",
        "        out = out * sde_path\n",
        "\n",
        "        return out"
      ],
      "metadata": {
        "ExecuteTime": {
          "end_time": "2024-07-21T08:37:14.909886800Z",
          "start_time": "2024-07-21T08:37:14.909886800Z"
        },
        "id": "47b6437986612f7b"
      },
      "id": "47b6437986612f7b"
    },
    {
      "cell_type": "markdown",
      "source": [
        "##Training class"
      ],
      "metadata": {
        "id": "88UClutzGyfS"
      },
      "id": "88UClutzGyfS"
    },
    {
      "cell_type": "code",
      "execution_count": null,
      "outputs": [],
      "source": [
        "class TorchTrainer:\n",
        "    def __init__(self, model, loss_fn, optimizer):\n",
        "\n",
        "        self.model = model\n",
        "        self.loss_fn = loss_fn\n",
        "        self.optimizer = optimizer\n",
        "        self.train_losses = []\n",
        "        self.val_losses = []\n",
        "\n",
        "    def train_step(self, x, y):\n",
        "        sde = MertonSDE()\n",
        "\n",
        "        ts = torch.linspace(0, 1, x.size(0))\n",
        "        y0 = torch.full(size=(x.size(0), 1), fill_value=0.1)\n",
        "        with torch.no_grad():\n",
        "            sde_path = torchsde.sdeint(sde, y0, ts)  # (t_size, batch_size, state_size) = (100, 3, 1).\n",
        "\n",
        "        self.model.train()\n",
        "        # Makes predictions\n",
        "        yhat = self.model(x, sde_path)\n",
        "        # Computes loss\n",
        "        loss = self.loss_fn(y, yhat)\n",
        "        # Computes gradients\n",
        "\n",
        "        loss.backward()\n",
        "        # Updates parameters and zeroes gradients\n",
        "        self.optimizer.step()\n",
        "        self.optimizer.zero_grad()\n",
        "        # Returns the loss\n",
        "        return loss.item()\n",
        "\n",
        "\n",
        "    def train(self, train_loader, val_loader, batch_size, n_epochs, n_features, result_path):\n",
        "        best_loss = float('inf')\n",
        "\n",
        "        import time\n",
        "        training_loss, validation_loss = [], []\n",
        "        start_time = time.time()  # Record the start time\n",
        "        for epoch in range(1, n_epochs + 1):\n",
        "            self.optimizer.zero_grad()\n",
        "            batch_losses = []\n",
        "            for x_batch, y_batch in train_loader:\n",
        "                x_batch = x_batch.view([batch_size, -1, n_features]).to(device)\n",
        "                y_batch = y_batch.to(device)\n",
        "                loss = self.train_step(x_batch, y_batch)\n",
        "                batch_losses.append(loss)\n",
        "            training_loss = np.mean(batch_losses)\n",
        "            self.train_losses.append(training_loss)\n",
        "\n",
        "            with torch.no_grad():\n",
        "                sde = MertonSDE()\n",
        "                ts = torch.linspace(0, 1, batch_size)\n",
        "                y0 = torch.full(size=(batch_size, 1), fill_value=0.1)\n",
        "                with torch.no_grad():\n",
        "                    sde_path = torchsde.sdeint(sde, y0, ts)  # (t_size, batch_size, state_size) = (100, 3, 1).\n",
        "\n",
        "                batch_val_losses = []\n",
        "                for x_val, y_val in val_loader:\n",
        "                    x_val = x_val.view([batch_size, -1, n_features]).to(device)\n",
        "                    y_val = y_val.to(device)\n",
        "                    self.model.eval()\n",
        "                    yhat = self.model(x_val,sde_path )\n",
        "                    val_loss = self.loss_fn(y_val, yhat).item()\n",
        "                    batch_val_losses.append(val_loss)\n",
        "\n",
        "                validation_loss = np.mean(batch_val_losses)\n",
        "                self.val_losses.append(validation_loss)\n",
        "\n",
        "            print(f'Epoch {epoch + 1}/{n_epochs}, Training Loss: {training_loss:.6f}, Validation Loss: {val_loss:.6f}, Best Loss : {best_loss:.6f}')\n",
        "            if val_loss < best_loss:\n",
        "                best_loss = val_loss\n",
        "                saved_model_path = save(self.model, result_path, 'best', save_model=True)\n",
        "                print(f'Best model saved with loss: {best_loss:.6f}')\n",
        "\n",
        "        end_time = time.time()  # Record the end time\n",
        "        runtime = end_time - start_time  # Calculate the runtime\n",
        "        return saved_model_path, self.model, runtime\n",
        "\n",
        "\n",
        "    def evaluate(self, test_loader, batch_size=1, n_features=2):\n",
        "\n",
        "        sde = MertonSDE()\n",
        "        ts = torch.linspace(0, 1, batch_size)\n",
        "        y0 = torch.full(size=(batch_size, 1), fill_value=0.1)\n",
        "\n",
        "\n",
        "        with torch.no_grad():\n",
        "            sde_path = torchsde.sdeint(sde, y0, ts)  # (t_size, batch_size, state_size) = (100, 3, 1).\n",
        "            preds = []\n",
        "            trues = []\n",
        "            for x_test, y_test in test_loader:\n",
        "                x_test = x_test.view([batch_size, -1, n_features]).to(device)\n",
        "                y_test = y_test.to(device)\n",
        "\n",
        "                self.model.eval()\n",
        "                yhat = self.model(x_test, sde_path)\n",
        "                yhat=yhat.cpu().data.numpy()\n",
        "                preds.append(yhat)\n",
        "                y_test=y_test.cpu().data.numpy()\n",
        "                trues.append(y_test)\n",
        "\n",
        "        preds = np.array(preds)\n",
        "        trues = np.array(trues)\n",
        "        preds = preds.reshape(-1, preds.shape[-1] )\n",
        "        trues = trues.reshape(-1, trues.shape[-1])\n",
        "        return trues, preds, self.model\n"
      ],
      "metadata": {
        "ExecuteTime": {
          "end_time": "2024-07-21T08:37:14.932652600Z",
          "start_time": "2024-07-21T08:37:14.923198100Z"
        },
        "id": "3df8f299ecfa90c7"
      },
      "id": "3df8f299ecfa90c7"
    },
    {
      "cell_type": "markdown",
      "source": [
        "##The main function"
      ],
      "metadata": {
        "id": "RJ1Tsi4jG_I7"
      },
      "id": "RJ1Tsi4jG_I7"
    },
    {
      "cell_type": "code",
      "execution_count": null,
      "outputs": [],
      "source": [
        "################################################\n",
        "# SetUp\n",
        "################################################\n",
        "\n",
        "device = torch.device(\"cuda:0\") if torch.cuda.is_available() else torch.device(\"cpu\")\n",
        "torch_seed, rs_seed = 2012, 4\n",
        "torch.manual_seed(torch_seed)\n",
        "rs = np.random.RandomState(rs_seed)\n",
        "\n",
        "result_path = \"./results\"\n",
        "EXCEL_EXP_PATH = \"./results/exp.xlsx\"\n",
        "saved_model_path = \"\"\n",
        "dataset_name = \"ITALY40.csv\"\n",
        "dataset_path = 'dataset/' + dataset_name\n",
        "target_column = 'Price'  # the column name of the target time series (brent or WTI)\n",
        "\n",
        "model_decriptipn = 'LSTM + Merton Jump calibrated by torchsde lib '\n",
        "model_name = 'LSTM_Levy_Merton_torchsde'\n",
        "save_model = True\n",
        "config = Config(\n",
        "    epochs=15,\n",
        "    pred_len=1,\n",
        "    seq_len=10,\n",
        "    n_critic=1,\n",
        "    model_name=model_name,\n",
        "    dataset=target_column,\n",
        "    lr=0.003054,\n",
        "    num_layers=1,\n",
        "    dropout=0.3,\n",
        "    hidden_units1=8,\n",
        "    hidden_units2=60,\n",
        "    sde_parameters='N/A',\n",
        "    batch_size=16,\n",
        "    noise_type='normal',\n",
        "    loss='MSELoss',\n",
        "    opt='Adam',\n",
        "    seeds={'torch_seed': torch_seed, 'rs_seed': rs_seed},\n",
        "    sde='N/A'\n",
        ")\n",
        "\n",
        "#################################################\n",
        "# Dataset\n",
        "#################################################\n",
        "\n",
        "# read the csv file\n",
        "df = pd.read_csv(dataset_path)\n",
        "#df = df[6:]\n",
        "\n",
        "df = df[[target_column]]  # Price, WTI, SENT, GRACH\n",
        "features = df.columns\n",
        "\n",
        "# Exploratory Data Analysis (EDA) of Volatility Data\n",
        "# from utils.helper import eda\n",
        "# eda(df, target)\n",
        "\n",
        "train_size, valid_size, test_size = 3285 , 200, 200# 2040, 259, 65 #2000, 180, 200\n",
        "data = create_dataset(df, target_column, train_size, valid_size, test_size, config.seq_len, config.pred_len)\n",
        "train_loader, val_loader, test_loader , test_loader_one = pytorch_data_input(data, config.batch_size )\n",
        "print(f\"Data : {dataset_name}, {data['X_train'].shape} , {data['y_train'].shape}\")\n",
        "print()\n",
        "\n",
        "#################################################\n",
        "# create expermint instance\n",
        "#################################################\n",
        "jobID, ex_results_path = create_exp(result_path, 'exp.csv', config.model_name)\n",
        "#################################################\n",
        "# Build the model\n",
        "#################################################\n",
        "model = LSTM(config, data['X_train'].shape[2])\n",
        "optimizer = getattr(torch.optim, config.opt)(model.parameters(), lr=config.lr)\n",
        "\n",
        "loss_fn = nn.MSELoss(reduction=\"mean\")\n",
        "\n",
        "ex = TorchTrainer(model, loss_fn=loss_fn, optimizer=optimizer)\n",
        "input_dim = len(features)\n",
        "\n",
        "\n",
        "#################################################\n",
        "# Training the model\n",
        "#################################################\n",
        "\n",
        "best_model = None\n",
        "is_train = True\n",
        "\n",
        "if is_train:\n",
        "    saved_model_path, trained_model, runtime= ex.train(train_loader, val_loader, batch_size=config.batch_size, n_epochs=config.epochs,\n",
        "             n_features=input_dim, result_path=result_path)\n",
        "    best_model= trained_model\n",
        "\n",
        "else:\n",
        "    print('training mode is off')\n",
        "\n",
        "#################################################\n",
        "# Testing the model\n",
        "#################################################\n",
        "\n",
        "if save_model:\n",
        "    print(saved_model_path, \"has been loaded\")\n",
        "    checkpoint = torch.load(saved_model_path)\n",
        "    model.load_state_dict(checkpoint['g_state_dict'])\n",
        "\n",
        "trues, preds, model = ex.evaluate(\n",
        "    test_loader_one,\n",
        "    batch_size=1,\n",
        "    n_features=input_dim)\n",
        "print(\"opt\", ex)\n",
        "\n",
        "\n",
        "preds = preds[:, -1].reshape(-1, 1)\n",
        "trues = trues[:, -1].reshape(-1, 1)\n",
        "print(f\" preds: {preds.shape}, trues {trues.shape}\")\n",
        "\n",
        "\n"
      ],
      "metadata": {
        "ExecuteTime": {
          "end_time": "2024-07-21T11:41:04.111023700Z",
          "start_time": "2024-07-21T08:37:14.945732600Z"
        },
        "id": "1a0acce9d02a6b83"
      },
      "id": "1a0acce9d02a6b83"
    },
    {
      "cell_type": "code",
      "execution_count": null,
      "outputs": [
        {
          "name": "stdout",
          "output_type": "stream",
          "text": [
            "(200, 1) (200, 1)\n"
          ]
        },
        {
          "data": {
            "text/plain": "<Figure size 640x480 with 1 Axes>",
            "image/png": "[encoded data removed]"
          },
          "metadata": {},
          "output_type": "display_data"
        },
        {
          "name": "stdout",
          "output_type": "stream",
          "text": [
            " MAE: 0.003250  , MSE 0.000038, RMSE 0.006124, MSPE 0.000328, MAPE 0.009237, R2 0.989296, KL 0.000138\n",
            "save to excel\n",
            "Merton Params: Sigma : 0.019999999552965164, Lam :0.019999999552965164, std 0.019999999552965164, m:0.019999999552965164\n",
            "./results/exp.csv\n",
            "New row appended to ./results/exp.csv \n",
            "./results/exp.csv\n",
            "append to excel\n",
            "Config(epochs=15, pred_len=1, seq_len=10, n_critic=1, model_name='LSTM_Levy_Merton_torchsde', dataset='Price', lr=0.003054, num_layers=1, dropout=0.3, hidden_units1=8, hidden_units2=60, sde_parameters='N/A', batch_size=16, noise_type='normal', opt='Adam', loss='MSELoss', seeds={'torch_seed': 2012, 'rs_seed': 4}, sde='N/A')\n",
            "Index(['Price'], dtype='object')\n"
          ]
        }
      ],
      "source": [
        "#################################################\n",
        "# Ploting\n",
        "#################################################\n",
        "\n",
        "plot_trues_preds(trues, preds, ex_results_path)\n",
        "metrics = metric(trues, preds)\n",
        "\n",
        "save_results(trues, preds, metrics, ex_results_path)\n",
        "\n",
        "# save result details with configs to exp.csv file\n",
        "save_config_to_excel(jobID, ex_results_path, result_path + '/exp.csv', config, model_decriptipn,\n",
        "                     best_model, metrics, {'train_size': train_size,\n",
        "                                          'valid_size': valid_size, 'test_size': test_size}, runtime)\n",
        "\n",
        "\n",
        "\n",
        "print(config)\n",
        "print(df.columns)"
      ],
      "metadata": {
        "ExecuteTime": {
          "end_time": "2024-07-21T11:58:59.185210200Z",
          "start_time": "2024-07-21T11:58:58.454031400Z"
        },
        "id": "a7c1065f8984b28d",
        "outputId": "fca7b532-9257-462c-b8f9-e0e7b2c196cf"
      },
      "id": "a7c1065f8984b28d"
    }
  ],
  "metadata": {
    "kernelspec": {
      "display_name": "Python 3",
      "language": "python",
      "name": "python3"
    },
    "language_info": {
      "codemirror_mode": {
        "name": "ipython",
        "version": 2
      },
      "file_extension": ".py",
      "mimetype": "text/x-python",
      "name": "python",
      "nbconvert_exporter": "python",
      "pygments_lexer": "ipython2",
      "version": "2.7.6"
    },
    "colab": {
      "provenance": [],
      "include_colab_link": true
    }
  },
  "nbformat": 4,
  "nbformat_minor": 5
}